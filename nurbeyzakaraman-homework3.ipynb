{
 "cells": [
  {
   "cell_type": "code",
   "execution_count": 4,
   "metadata": {},
   "outputs": [
    {
     "name": "stdout",
     "output_type": "stream",
     "text": [
      "please select one of 1,2,3 \n",
      "3\n",
      "please first length:4\n",
      "please a second length:5\n",
      "hypotenuse equal to: 6.4031242374328485 \n",
      "\n"
     ]
    },
    {
     "ename": "NameError",
     "evalue": "name 'number2' is not defined",
     "output_type": "error",
     "traceback": [
      "\u001b[1;31m---------------------------------------------------------------------------\u001b[0m",
      "\u001b[1;31mNameError\u001b[0m                                 Traceback (most recent call last)",
      "\u001b[1;32m<ipython-input-4-76adfd5bd9fe>\u001b[0m in \u001b[0;36m<module>\u001b[1;34m\u001b[0m\n\u001b[0;32m      9\u001b[0m     \u001b[0mnumber2\u001b[0m\u001b[1;33m=\u001b[0m\u001b[0mint\u001b[0m\u001b[1;33m(\u001b[0m\u001b[0minput\u001b[0m\u001b[1;33m(\u001b[0m\u001b[1;34m\"please enter a number:\"\u001b[0m\u001b[1;33m)\u001b[0m\u001b[1;33m)\u001b[0m\u001b[1;33m\u001b[0m\u001b[1;33m\u001b[0m\u001b[0m\n\u001b[0;32m     10\u001b[0m \u001b[0mi\u001b[0m\u001b[1;33m=\u001b[0m\u001b[1;36m1\u001b[0m\u001b[1;33m;\u001b[0m\u001b[1;33m\u001b[0m\u001b[1;33m\u001b[0m\u001b[0m\n\u001b[1;32m---> 11\u001b[1;33m \u001b[1;32mwhile\u001b[0m \u001b[0mi\u001b[0m\u001b[1;33m<\u001b[0m \u001b[0mnumber2\u001b[0m\u001b[1;33m:\u001b[0m\u001b[1;33m\u001b[0m\u001b[1;33m\u001b[0m\u001b[0m\n\u001b[0m\u001b[0;32m     12\u001b[0m     \u001b[0mprint\u001b[0m\u001b[1;33m(\u001b[0m\u001b[0mi\u001b[0m\u001b[1;33m)\u001b[0m\u001b[1;33m\u001b[0m\u001b[1;33m\u001b[0m\u001b[0m\n\u001b[0;32m     13\u001b[0m     \u001b[1;32mif\u001b[0m \u001b[0mi\u001b[0m\u001b[1;33m==\u001b[0m\u001b[0mnumber2\u001b[0m\u001b[1;33m:\u001b[0m\u001b[1;33m\u001b[0m\u001b[1;33m\u001b[0m\u001b[0m\n",
      "\u001b[1;31mNameError\u001b[0m: name 'number2' is not defined"
     ]
    }
   ],
   "source": [
    "number=float(input(\"please select one of 1,2,3 \\n\"))\n",
    "if number==1:\n",
    "    print('now we calculate the hypotenuse of the triangle')\n",
    "a=int(input('please first length:'))\n",
    "b=int(input('please a second length:'))\n",
    "hypotenuse=a*a+b*b\n",
    "print('hypotenuse equal to:',(hypotenuse**0.5),'\\n')\n",
    "elif number==2:\n",
    "    number2=int(input(\"please enter a number:\"))\n",
    "i=1;\n",
    "while i< number2:\n",
    "    print(i)\n",
    "    if i==number2:\n",
    "        break\n",
    "        i += 1\n",
    "elif number ==3 :\n",
    "    print('now we calculate the arithmetic mean')\n",
    "a=float(input(\"first number: \\n\"))\n",
    "b=float(input(\"second number: \\n\"))\n",
    "c=float(input(\"thirth number: \\n\"))\n",
    "d=float(input(\"fourth number: \\n\"))\n",
    "e=float(input(\"fiveth number: \\n\"))\n",
    "f=float(input(\"sixth number: \\n\"))\n",
    "arithmetic=(a+b+c+d+e+f)/6\n",
    "print(\"arithmetic mean:\",arithmetic,'\\n')\n",
    "else:\n",
    "    print('please restart the program')"
   ]
  },
  {
   "cell_type": "code",
   "execution_count": 3,
   "metadata": {},
   "outputs": [
    {
     "ename": "IndentationError",
     "evalue": "unexpected indent (<ipython-input-3-d5f7b17b7ecf>, line 2)",
     "output_type": "error",
     "traceback": [
      "\u001b[1;36m  File \u001b[1;32m\"<ipython-input-3-d5f7b17b7ecf>\"\u001b[1;36m, line \u001b[1;32m2\u001b[0m\n\u001b[1;33m    while i<66:\u001b[0m\n\u001b[1;37m    ^\u001b[0m\n\u001b[1;31mIndentationError\u001b[0m\u001b[1;31m:\u001b[0m unexpected indent\n"
     ]
    }
   ],
   "source": [
    " i=1;\n",
    "    while i<66:\n",
    "        print(i)"
   ]
  },
  {
   "cell_type": "code",
   "execution_count": null,
   "metadata": {},
   "outputs": [],
   "source": []
  }
 ],
 "metadata": {
  "kernelspec": {
   "display_name": "Python 3",
   "language": "python",
   "name": "python3"
  },
  "language_info": {
   "codemirror_mode": {
    "name": "ipython",
    "version": 3
   },
   "file_extension": ".py",
   "mimetype": "text/x-python",
   "name": "python",
   "nbconvert_exporter": "python",
   "pygments_lexer": "ipython3",
   "version": "3.7.4"
  }
 },
 "nbformat": 4,
 "nbformat_minor": 2
}
