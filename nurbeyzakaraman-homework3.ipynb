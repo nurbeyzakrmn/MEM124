{
 "cells": [
  {
   "cell_type": "code",
   "execution_count": null,
   "metadata": {},
   "outputs": [],
   "source": [
    "number=float(input(\"please select one of 1,2,3 \\n\"))\n",
    "if number==1:\n",
    "    print('now we calculate the hypotenuse of the triangle')\n",
    "a=int(input('please first length:'))\n",
    "b=int(input('please a second length:'))\n",
    "hypotenuse=a*a+b*b\n",
    "print('hypotenuse equal to:',(hypotenuse**0.5),'\\n')\n",
    "elif number==2:\n",
    "    number2=int(input(\"please enter a number:\"))\n",
    "    i=1;\n",
    "    while i< number2:\n",
    "        print(i)\n",
    "elif number ==3 :\n",
    "    print('now we calculate the arithmetic mean')\n",
    "a=float(input(\"first number: \\n\"))\n",
    "b=float(input(\"second number: \\n\"))\n",
    "c=float(input(\"thirth number: \\n\"))\n",
    "d=float(input(\"fourth number: \\n\"))\n",
    "e=float(input(\"fiveth number: \\n\"))\n",
    "f=float(input(\"sixth number: \\n\"))\n",
    "arithmetic=(a+b+c+d+e+f)/6\n",
    "print(\"arithmetic mean:\",arithmetic,\\n)\n",
    "else:\n",
    "    print(\"please restart the program\")\n"
   ]
  },
  {
   "cell_type": "code",
   "execution_count": null,
   "metadata": {},
   "outputs": [],
   "source": []
  }
 ],
 "metadata": {
  "kernelspec": {
   "display_name": "Python 3",
   "language": "python",
   "name": "python3"
  },
  "language_info": {
   "codemirror_mode": {
    "name": "ipython",
    "version": 3
   },
   "file_extension": ".py",
   "mimetype": "text/x-python",
   "name": "python",
   "nbconvert_exporter": "python",
   "pygments_lexer": "ipython3",
   "version": "3.7.4"
  }
 },
 "nbformat": 4,
 "nbformat_minor": 2
}
