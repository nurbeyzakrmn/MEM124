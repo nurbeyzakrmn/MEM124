{
 "cells": [
  {
   "cell_type": "code",
   "execution_count": 3,
   "metadata": {},
   "outputs": [
    {
     "name": "stdout",
     "output_type": "stream",
     "text": [
      " the function with two unknowns \n",
      " a*x**+b*x+c \n"
     ]
    },
    {
     "name": "stdin",
     "output_type": "stream",
     "text": [
      "enter a A number:  1\n",
      "enter a B number:  -6\n",
      "enter a C number:  -5\n",
      "enter a x number:  2\n"
     ]
    },
    {
     "name": "stdout",
     "output_type": "stream",
     "text": [
      " no real root \n"
     ]
    }
   ],
   "source": [
    "print (' The Function With Two Unknowns ' )\n",
    "print ( \" a*x**+b*x+c \")\n",
    "a=int(input (\"Enter a A number: \"))\n",
    "b=int(input(\"Enter a B number: \"))\n",
    "c=int(input(\"Enter a C number: \"))\n",
    "x=int(input(\"Enter a X number: \"))\n",
    "delta=b**-4*a*c\n",
    "x1= (-b+delta**0.5) / 2*a\n",
    "x2= (-b-delta**0.5) / 2*a\n",
    "if delta <0:\n",
    "    print(\" no real root \")\n",
    "if delta >0:\n",
    "    print(\" there are two real root \")\n",
    "    print (\"x1:{}\\n , x2:{}\\n\". format(x1,x2))\n",
    "if delta ==0:\n",
    "    print (\" there are one real root \")\n",
    "    print (\"x1=x2:{}\\n\". format (x1))"
   ]
  },
  {
   "cell_type": "code",
   "execution_count": null,
   "metadata": {},
   "outputs": [],
   "source": []
  }
 ],
 "metadata": {
  "kernelspec": {
   "display_name": "Python 3",
   "language": "python",
   "name": "python3"
  },
  "language_info": {
   "codemirror_mode": {
    "name": "ipython",
    "version": 3
   },
   "file_extension": ".py",
   "mimetype": "text/x-python",
   "name": "python",
   "nbconvert_exporter": "python",
   "pygments_lexer": "ipython3",
   "version": "3.7.3"
  }
 },
 "nbformat": 4,
 "nbformat_minor": 4
}
