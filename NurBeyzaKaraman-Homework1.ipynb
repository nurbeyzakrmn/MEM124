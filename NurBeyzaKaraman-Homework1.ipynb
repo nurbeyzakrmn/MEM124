{
 "cells": [
  {
   "cell_type": "code",
   "execution_count": 1,
   "metadata": {},
   "outputs": [
    {
     "name": "stdout",
     "output_type": "stream",
     "text": [
      "The Function With Two Unknowns\n",
      " a*x**+b*x+c\n",
      "Enter a A number: 1\n",
      "Enter a B number: -6\n",
      "Enter a C number: -5\n",
      "Enter a X number: 2\n",
      " no real root\n"
     ]
    }
   ],
   "source": [
    "print('The Function With Two Unknowns')\n",
    "print (\" a*x**+b*x+c\")\n",
    "a=int(input(\"Enter a A number: \"))\n",
    "b=int(input(\"Enter a B number: \"))\n",
    "c=int(input(\"Enter a C number: \"))\n",
    "x=int(input(\"Enter a X number: \"))\n",
    "delta=b**-4*a*c\n",
    "x1= (-b+delta**0.5) / 2*a\n",
    "x2= (-b-delta**0.5) / 2*a\n",
    "if delta <0:\n",
    "    print(\" no real root\")\n",
    "if delta >0:\n",
    "    print(\"there are two real root\")\n",
    "    print(\"x1:{}\\n , x2:{}\\n\". format(x1,x2))\n",
    "if delta ==0:\n",
    "    print (\" there are one real root \")\n",
    "    print (\"x1=x2:{}\\n\". format (x1))\n",
    "\n"
   ]
  },
  {
   "cell_type": "code",
   "execution_count": null,
   "metadata": {},
   "outputs": [],
   "source": []
  }
 ],
 "metadata": {
  "kernelspec": {
   "display_name": "Python 3",
   "language": "python",
   "name": "python3"
  },
  "language_info": {
   "codemirror_mode": {
    "name": "ipython",
    "version": 3
   },
   "file_extension": ".py",
   "mimetype": "text/x-python",
   "name": "python",
   "nbconvert_exporter": "python",
   "pygments_lexer": "ipython3",
   "version": "3.7.3"
  }
 },
 "nbformat": 4,
 "nbformat_minor": 2
}
